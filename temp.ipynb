{
 "cells": [
  {
   "cell_type": "code",
   "execution_count": 11,
   "metadata": {},
   "outputs": [
    {
     "name": "stdout",
     "output_type": "stream",
     "text": [
      "(-1.3090303047676805e-16-3.2589966093801177e-18j) (324, 323)\n"
     ]
    },
    {
     "data": {
      "image/png": "[encoded data removed]",
      "text/plain": [
       "<Figure size 640x480 with 4 Axes>"
      ]
     },
     "metadata": {},
     "output_type": "display_data"
    }
   ],
   "source": [
    "import cv2\n",
    "from PIL import Image\n",
    "import numpy as np\n",
    "from matplotlib import pyplot as plt\n",
    " \n",
    "# 读取图像\n",
    "# img_path = \"/home/guantp/Infrared/datasets/SIRST/images/Misc_3.png\"\n",
    "img_path = \"/home/guantp/Infrared/datasets/SIRST/masks/Misc_3.png\"\n",
    "img = Image.open(img_path).convert('I') \n",
    "img = np.array(img) \n",
    "\n",
    "fshift = np.fft.fft2(img)\n",
    "fshift = np.fft.fftshift(fshift)\n",
    "rimg = np.log(np.abs(fshift)) \n",
    "\n",
    "# 设置高通滤波器\n",
    "rows, cols = img.shape\n",
    "crow, ccol = int(rows/2), int(cols/2)\n",
    "print(fshift.mean(), fshift.shape)\n",
    "# fshift[crow-30:crow+30, ccol-30:ccol+30] = 0\n",
    "# fshift[np.real(fshift) > np.percentile(np.real(fshift), 99.5)] = 0\n",
    "# fshift[np.imag(fshift) > np.percentile(np.imag(fshift), 99.5)] = 0\n",
    "# fshift[np.abs(fshift) > np.percentile(np.abs(fshift), 99.9)] = 0\n",
    "rimg2 = np.log(np.abs(fshift)) \n",
    "# 傅里叶逆变换\n",
    "ishift = np.fft.ifftshift(fshift)\n",
    "iimg = np.fft.ifft2(ishift)\n",
    "iimg = np.abs(iimg)\n",
    " \n",
    "# 显示原始图像和高通滤波处理图像\n",
    "plt.subplot(141), plt.imshow(img, 'gray'), plt.title('gray Image')\n",
    "plt.axis('off')\n",
    "plt.subplot(142), plt.imshow(iimg, 'gray'), plt.title('Result Image')\n",
    "plt.axis('off')\n",
    "plt.subplot(143), plt.imshow(rimg, 'gray'), plt.title('Result Image')\n",
    "plt.axis('off')\n",
    "plt.subplot(144), plt.imshow(rimg2, 'gray'), plt.title('Result Image')\n",
    "plt.axis('off')\n",
    "plt.show()"
   ]
  },
  {
   "cell_type": "code",
   "execution_count": 12,
   "metadata": {},
   "outputs": [
    {
     "name": "stdout",
     "output_type": "stream",
     "text": [
      "(240, 320)\n",
      "(240, 320)\n",
      "[[ 1.07100000e+04 -7.57965460e+03  2.98794642e+01 ... -1.09907742e+02\n",
      "   3.87494675e+01  0.00000000e+00]\n",
      " [-1.05859259e+04  6.43475049e+03  1.46932378e+03 ...  1.08709735e+02\n",
      "  -3.37596100e+01  8.62471703e-01]\n",
      " [ 1.02180600e+04 -5.14832178e+03 -2.92593978e+03 ... -1.06054516e+02\n",
      "   2.97941418e+01 -3.31453937e+00]\n",
      " ...\n",
      " [-9.61928715e+03  9.85102902e+03 -4.33767594e+03 ...  9.68219928e+01\n",
      "  -5.29527108e+01  6.96089429e+00]\n",
      " [ 1.02180600e+04 -9.31259059e+03  2.97715200e+03 ... -1.04666178e+02\n",
      "   4.91805721e+01 -3.31453937e+00]\n",
      " [-1.05859259e+04  8.54841454e+03 -1.52693095e+03 ...  1.08816891e+02\n",
      "  -4.41506898e+01  8.62471703e-01]]\n",
      "====================================================================================================\n",
      "[[ 0.00000000e+00 -7.55844072e+03  1.06870116e+04 ... -9.78130948e-01\n",
      "   3.90966077e+01  0.00000000e+00]\n",
      " [-1.50122568e+03  8.53625645e+03 -1.05748846e+04 ...  1.49568074e+01\n",
      "  -4.34015912e+01  1.36602098e-01]\n",
      " [ 2.95766069e+03 -9.31073584e+03  1.02190802e+04 ... -2.69654161e+01\n",
      "   4.62182181e+01 -1.07695912e+00]\n",
      " ...\n",
      " [ 4.32626979e+03  3.72145053e+03 -9.56473843e+03 ... -4.91298556e+01\n",
      "  -1.29155745e+01 -3.54675279e+00]\n",
      " [-2.95766069e+03 -5.11380305e+03  1.01729773e+04 ...  3.16909990e+01\n",
      "   2.40570948e+01  1.07695912e+00]\n",
      " [ 1.50122568e+03  6.40600508e+03 -1.05514727e+04 ... -1.47383238e+01\n",
      "  -3.27589896e+01 -1.36602098e-01]]\n"
     ]
    }
   ],
   "source": [
    "import cv2\n",
    "from PIL import Image\n",
    "import numpy as np\n",
    "from matplotlib import pyplot as plt\n",
    " \n",
    "# 读取图像\n",
    "# img_path = \"/home/guantp/Infrared/datasets/SIRST/images/Misc_3.png\"\n",
    "img_path = \"/home/guantp/Infrared/datasets/SIRST/masks/Misc_5.png\"\n",
    "img = Image.open(img_path).convert('I') \n",
    "img = np.array(img) \n",
    "print(img.shape)\n",
    "fshift = np.fft.rfft2(img)\n",
    "print(img.shape)\n",
    "print(np.real(fshift))\n",
    "print(\"=\"*100)\n",
    "print(np.imag(fshift))"
   ]
  },
  {
   "cell_type": "code",
   "execution_count": 111,
   "metadata": {},
   "outputs": [
    {
     "name": "stdout",
     "output_type": "stream",
     "text": [
      "['Misc_1.png', 'Misc_271.png', 'Misc_85.png', 'Misc_159.png', 'Misc_158.png', 'Misc_220.png', 'Misc_8.png', 'Misc_306.png', 'Misc_209.png', 'Misc_288.png', 'Misc_211.png', 'Misc_234.png', 'Misc_286.png', 'Misc_361.png', 'Misc_15.png', 'Misc_228.png', 'Misc_282.png', 'Misc_214.png', 'Misc_287.png', 'Misc_379.png', 'Misc_195.png', 'Misc_166.png', 'Misc_203.png', 'Misc_408.png', 'Misc_119.png', 'Misc_116.png', 'Misc_94.png', 'Misc_355.png', 'Misc_144.png', 'Misc_340.png', 'Misc_147.png', 'Misc_256.png', 'Misc_290.png', 'Misc_142.png', 'Misc_7.png', 'Misc_136.png', 'Misc_97.png', 'Misc_34.png', 'Misc_425.png', 'Misc_242.png', 'Misc_302.png', 'Misc_132.png', 'Misc_123.png', 'Misc_196.png', 'Misc_309.png', 'Misc_108.png', 'Misc_112.png', 'Misc_418.png', 'Misc_151.png', 'Misc_258.png', 'Misc_298.png', 'Misc_266.png', 'Misc_248.png', 'Misc_146.png', 'Misc_284.png', 'Misc_24.png', 'Misc_232.png', 'Misc_223.png', 'Misc_173.png', 'Misc_267.png', 'Misc_387.png', 'Misc_316.png', 'Misc_10.png', 'Misc_14.png', 'Misc_352.png', 'Misc_20.png', 'Misc_127.png', 'Misc_200.png', 'Misc_317.png', 'Misc_414.png', 'Misc_50.png', 'Misc_52.png', 'Misc_393.png', 'Misc_239.png', 'Misc_11.png', 'Misc_320.png', 'Misc_337.png', 'Misc_141.png', 'Misc_398.png', 'Misc_197.png', 'Misc_43.png', 'Misc_67.png', 'Misc_75.png', 'Misc_102.png', 'Misc_149.png', 'Misc_126.png', 'Misc_276.png', 'Misc_318.png', 'Misc_88.png', 'Misc_314.png', 'Misc_70.png', 'Misc_347.png', 'Misc_371.png', 'Misc_262.png', 'Misc_148.png', 'Misc_416.png', 'Misc_338.png', 'Misc_176.png', 'Misc_359.png', 'Misc_305.png', 'Misc_375.png', 'Misc_21.png', 'Misc_181.png', 'Misc_301.png', 'Misc_174.png', 'Misc_66.png', 'Misc_125.png', 'Misc_296.png', 'Misc_205.png', 'Misc_419.png', 'Misc_390.png', 'Misc_235.png', 'Misc_168.png', 'Misc_33.png', 'Misc_129.png', 'Misc_36.png', 'Misc_193.png', 'Misc_143.png', 'Misc_187.png', 'Misc_154.png', 'Misc_304.png', 'Misc_236.png', 'Misc_47.png', 'Misc_362.png', 'Misc_269.png', 'Misc_210.png', 'Misc_381.png', 'Misc_264.png', 'Misc_351.png', 'Misc_391.png', 'Misc_59.png', 'Misc_257.png', 'Misc_215.png', 'Misc_401.png', 'Misc_357.png', 'Misc_79.png', 'Misc_131.png', 'Misc_224.png', 'Misc_101.png', 'Misc_163.png', 'Misc_217.png', 'Misc_312.png', 'Misc_330.png', 'Misc_23.png', 'Misc_204.png', 'Misc_60.png', 'Misc_96.png', 'Misc_244.png', 'Misc_360.png', 'Misc_64.png', 'Misc_153.png', 'Misc_183.png', 'Misc_89.png', 'Misc_155.png', 'Misc_303.png', 'Misc_107.png', 'Misc_62.png', 'Misc_30.png', 'Misc_327.png', 'Misc_349.png', 'Misc_16.png', 'Misc_90.png', 'Misc_283.png', 'Misc_222.png', 'Misc_219.png', 'Misc_74.png', 'Misc_329.png', 'Misc_253.png', 'Misc_83.png', 'Misc_221.png', 'Misc_279.png', 'Misc_259.png', 'Misc_38.png', 'Misc_376.png', 'Misc_48.png', 'Misc_22.png', 'Misc_230.png', 'Misc_121.png', 'Misc_46.png', 'Misc_254.png', 'Misc_134.png', 'Misc_105.png', 'Misc_399.png', 'Misc_365.png', 'Misc_58.png', 'Misc_56.png', 'Misc_281.png', 'Misc_326.png', 'Misc_53.png', 'Misc_237.png', 'Misc_99.png', 'Misc_370.png', 'Misc_407.png', 'Misc_113.png', 'Misc_372.png', 'Misc_57.png', 'Misc_382.png', 'Misc_160.png', 'Misc_45.png', 'Misc_179.png', 'Misc_386.png', 'Misc_394.png', 'Misc_345.png', 'Misc_104.png', 'Misc_167.png', 'Misc_19.png', 'Misc_384.png', 'Misc_404.png', 'Misc_413.png', 'Misc_109.png', 'Misc_422.png', 'Misc_233.png', 'Misc_227.png', 'Misc_32.png', 'Misc_68.png', 'Misc_27.png', 'Misc_185.png', 'Misc_5.png', 'Misc_42.png', 'Misc_165.png', 'Misc_2.png', 'Misc_189.png', 'Misc_37.png', 'Misc_17.png', 'Misc_18.png', 'Misc_120.png', 'Misc_409.png', 'Misc_55.png', 'Misc_268.png', 'Misc_261.png', 'Misc_73.png', 'Misc_289.png', 'Misc_249.png', 'Misc_346.png', 'Misc_82.png', 'Misc_402.png', 'Misc_385.png', 'Misc_295.png', 'Misc_294.png', 'Misc_270.png', 'Misc_31.png', 'Misc_420.png', 'Misc_137.png', 'Misc_373.png', 'Misc_12.png', 'Misc_323.png', 'Misc_199.png', 'Misc_335.png', 'Misc_319.png', 'Misc_421.png', 'Misc_238.png', 'Misc_231.png', 'Misc_411.png', 'Misc_118.png', 'Misc_331.png', 'Misc_207.png', 'Misc_377.png', 'Misc_124.png', 'Misc_202.png', 'Misc_65.png', 'Misc_138.png', 'Misc_358.png', 'Misc_247.png', 'Misc_169.png', 'Misc_91.png', 'Misc_145.png', 'Misc_252.png', 'Misc_374.png', 'Misc_110.png', 'Misc_106.png', 'Misc_86.png', 'Misc_273.png', 'Misc_26.png', 'Misc_341.png', 'Misc_194.png', 'Misc_310.png', 'Misc_115.png', 'Misc_164.png', 'Misc_192.png', 'Misc_206.png', 'Misc_9.png', 'Misc_49.png', 'Misc_297.png', 'Misc_35.png', 'Misc_272.png', 'Misc_39.png', 'Misc_403.png', 'Misc_40.png', 'Misc_3.png', 'Misc_325.png', 'Misc_380.png', 'Misc_313.png', 'Misc_87.png', 'Misc_383.png', 'Misc_308.png', 'Misc_344.png', 'Misc_343.png', 'Misc_350.png', 'Misc_84.png', 'Misc_388.png', 'Misc_4.png', 'Misc_260.png', 'Misc_255.png', 'Misc_133.png', 'Misc_198.png', 'Misc_292.png', 'Misc_240.png', 'Misc_71.png', 'Misc_140.png', 'Misc_61.png', 'Misc_13.png', 'Misc_364.png', 'Misc_324.png', 'Misc_389.png', 'Misc_307.png', 'Misc_182.png', 'Misc_25.png', 'Misc_246.png', 'Misc_201.png', 'Misc_122.png', 'Misc_300.png', 'Misc_92.png', 'Misc_225.png', 'Misc_98.png', 'Misc_103.png', 'Misc_139.png', 'Misc_280.png', 'Misc_339.png', 'Misc_93.png', 'Misc_117.png', 'Misc_229.png', 'Misc_162.png', 'Misc_415.png', 'Misc_243.png', 'Misc_342.png', 'Misc_208.png', 'Misc_212.png', 'Misc_186.png', 'Misc_392.png', 'Misc_184.png', 'Misc_175.png', 'Misc_321.png', 'Misc_180.png', 'Misc_278.png', 'Misc_400.png', 'Misc_412.png', 'Misc_51.png', 'Misc_363.png', 'Misc_405.png', 'Misc_395.png', 'Misc_54.png', 'Misc_177.png', 'Misc_322.png', 'Misc_265.png', 'Misc_172.png', 'Misc_156.png', 'Misc_114.png', 'Misc_157.png', 'Misc_274.png', 'Misc_315.png', 'Misc_28.png', 'Misc_191.png', 'Misc_427.png', 'Misc_241.png', 'Misc_353.png', 'Misc_95.png', 'Misc_80.png', 'Misc_277.png', 'Misc_69.png', 'Misc_348.png', 'Misc_100.png', 'Misc_76.png', 'Misc_263.png', 'Misc_334.png', 'Misc_135.png', 'Misc_328.png', 'Misc_171.png', 'Misc_81.png', 'Misc_311.png', 'Misc_285.png', 'Misc_128.png', 'Misc_218.png', 'Misc_397.png', 'Misc_396.png', 'Misc_356.png', 'Misc_170.png', 'Misc_213.png', 'Misc_245.png', 'Misc_226.png', 'Misc_332.png', 'Misc_6.png', 'Misc_251.png', 'Misc_417.png', 'Misc_77.png', 'Misc_29.png', 'Misc_410.png', 'Misc_178.png', 'Misc_336.png', 'Misc_152.png', 'Misc_406.png', 'Misc_188.png', 'Misc_366.png', 'Misc_63.png', 'Misc_44.png', 'Misc_250.png', 'Misc_378.png', 'Misc_275.png', 'Misc_367.png', 'Misc_190.png', 'Misc_293.png', 'Misc_111.png', 'Misc_368.png', 'Misc_369.png', 'Misc_150.png', 'Misc_216.png', 'Misc_130.png', 'Misc_41.png', 'Misc_72.png', 'Misc_78.png', 'Misc_426.png', 'Misc_299.png', 'Misc_161.png', 'Misc_291.png', 'Misc_423.png', 'Misc_424.png', 'Misc_354.png', 'Misc_333.png']\n",
      "427\n"
     ]
    }
   ],
   "source": [
    "import os\n",
    "\n",
    "dir_path = \"/home/guantp/Infrared/datasets/SIRST/images\"\n",
    "imgs = [f for f in os.listdir(dir_path) if f.lower().endswith(('.png', '.jpg', '.jpeg', '.bmp', '.gif'))]\n",
    "\n",
    "print(imgs)\n",
    "print(len(imgs))\n"
   ]
  },
  {
   "cell_type": "code",
   "execution_count": 113,
   "metadata": {},
   "outputs": [],
   "source": [
    "import cv2\n",
    "from PIL import Image\n",
    "import numpy as np\n",
    "from matplotlib import pyplot as plt\n",
    "import os\n",
    "\n",
    "# 读取图像\n",
    "dir_path = \"/home/guantp/Infrared/datasets/SIRST/images\"\n",
    "imgs = [f for f in os.listdir(dir_path) if f.lower().endswith(('.png', '.jpg', '.jpeg', '.bmp', '.gif'))]\n",
    "\n",
    "for path in imgs[:10]:\n",
    "    img_path = dir_path + \"/\" + path\n",
    "    mask_path = img_path.replace(\"images\", \"masks\")\n",
    "    img = Image.open(img_path).convert('I') \n",
    "    img = np.array(img) \n",
    "\n",
    "    mask = Image.open(mask_path).convert('I') \n",
    "    mask = np.array(mask)\n",
    "\n",
    "    fshift = np.fft.fft2(img)\n",
    "    fshift = np.fft.fftshift(fshift)\n",
    "\n",
    "    print(np.real(fshift).max(), np.real(fshift).min())\n",
    "    print(np.imag(fshift).max(), np.imag(fshift).min())\n",
    "\n",
    "    mask_fshift = np.fft.fft2(mask)\n",
    "    mask_fshift = np.fft.fftshift(mask_fshift)\n",
    "\n",
    "    print(np.real(mask_fshift).max(), np.real(mask_fshift).min())\n",
    "    print(np.imag(mask_fshift).max(), np.imag(mask_fshift).min())\n",
    "\n",
    "    # 傅里叶逆变换\n",
    "    ishift = np.fft.ifftshift(fshift)\n",
    "    iimg = np.fft.ifft2(ishift)\n",
    "    iimg = np.abs(iimg)\n",
    "    \n",
    "    # 显示原始图像和高通滤波处理图像\n",
    "    plt.subplot(141), plt.imshow(img, 'gray'), plt.title('gray Image')\n",
    "    plt.axis('off')\n",
    "    plt.subplot(142), plt.imshow(mask, 'gray'), plt.title('Result Image')\n",
    "    plt.axis('off')\n",
    "    plt.subplot(143), plt.imshow(np.log(np.abs(fshift)), 'gray'), plt.title('Result Image')\n",
    "    plt.axis('off')\n",
    "    plt.subplot(144), plt.imshow(np.log(np.abs(mask_fshift)), 'gray'), plt.title('Result Image')\n",
    "    plt.axis('off')\n",
    "    plt.show()"
   ]
  }
 ],
 "metadata": {
  "kernelspec": {
   "display_name": "SIRST",
   "language": "python",
   "name": "python3"
  },
  "language_info": {
   "codemirror_mode": {
    "name": "ipython",
    "version": 3
   },
   "file_extension": ".py",
   "mimetype": "text/x-python",
   "name": "python",
   "nbconvert_exporter": "python",
   "pygments_lexer": "ipython3",
   "version": "3.10.14"
  }
 },
 "nbformat": 4,
 "nbformat_minor": 2
}
